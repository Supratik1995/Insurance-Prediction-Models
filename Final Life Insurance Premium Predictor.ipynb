{
 "cells": [
  {
   "cell_type": "code",
   "execution_count": 158,
   "id": "7d1109d6",
   "metadata": {},
   "outputs": [],
   "source": [
    "import pandas as pd\n",
    "import numpy as np\n",
    "from sklearn.linear_model import LinearRegression\n",
    "from sklearn.metrics import r2_score\n",
    "from sklearn.preprocessing import OneHotEncoder\n",
    "from sklearn.compose import make_column_transformer\n",
    "from sklearn.pipeline import make_pipeline\n",
    "from xgboost import XGBRegressor\n",
    "from sklearn.preprocessing import LabelEncoder"
   ]
  },
  {
   "cell_type": "code",
   "execution_count": 159,
   "id": "b1c67c0d",
   "metadata": {},
   "outputs": [],
   "source": [
    "dataset= pd.read_excel(\"C:\\\\Users\\\\desum\\\\OneDrive\\\\Desktop\\\\Life Underwriting\\\\Premium Prediction Model\\\\Predict_Final.xlsx\")\n",
    "df=dataset"
   ]
  },
  {
   "cell_type": "code",
   "execution_count": 160,
   "id": "c1987a08",
   "metadata": {},
   "outputs": [
    {
     "data": {
      "text/plain": [
       "(2090, 10)"
      ]
     },
     "execution_count": 160,
     "metadata": {},
     "output_type": "execute_result"
    }
   ],
   "source": [
    "df.shape"
   ]
  },
  {
   "cell_type": "code",
   "execution_count": 161,
   "id": "01ea80e0",
   "metadata": {},
   "outputs": [],
   "source": [
    "df.drop(labels='Sl.No',axis=1, inplace=True)"
   ]
  },
  {
   "cell_type": "code",
   "execution_count": 162,
   "id": "d947ca6b",
   "metadata": {},
   "outputs": [
    {
     "data": {
      "text/html": [
       "<div>\n",
       "<style scoped>\n",
       "    .dataframe tbody tr th:only-of-type {\n",
       "        vertical-align: middle;\n",
       "    }\n",
       "\n",
       "    .dataframe tbody tr th {\n",
       "        vertical-align: top;\n",
       "    }\n",
       "\n",
       "    .dataframe thead th {\n",
       "        text-align: right;\n",
       "    }\n",
       "</style>\n",
       "<table border=\"1\" class=\"dataframe\">\n",
       "  <thead>\n",
       "    <tr style=\"text-align: right;\">\n",
       "      <th></th>\n",
       "      <th>PolicyType</th>\n",
       "      <th>PolicyTerm</th>\n",
       "      <th>Gender</th>\n",
       "      <th>Age</th>\n",
       "      <th>PremiumPayment</th>\n",
       "      <th>Sum Assured</th>\n",
       "      <th>Occupation</th>\n",
       "      <th>Smoker</th>\n",
       "      <th>Total Premium</th>\n",
       "    </tr>\n",
       "  </thead>\n",
       "  <tbody>\n",
       "    <tr>\n",
       "      <th>0</th>\n",
       "      <td>Term</td>\n",
       "      <td>40</td>\n",
       "      <td>Male</td>\n",
       "      <td>22</td>\n",
       "      <td>Yearly</td>\n",
       "      <td>2000000</td>\n",
       "      <td>Student</td>\n",
       "      <td>No</td>\n",
       "      <td>2030.438032</td>\n",
       "    </tr>\n",
       "    <tr>\n",
       "      <th>1</th>\n",
       "      <td>Endowment</td>\n",
       "      <td>10</td>\n",
       "      <td>Male</td>\n",
       "      <td>49</td>\n",
       "      <td>Yearly</td>\n",
       "      <td>5000000</td>\n",
       "      <td>Salaried</td>\n",
       "      <td>Yes</td>\n",
       "      <td>302907.286978</td>\n",
       "    </tr>\n",
       "    <tr>\n",
       "      <th>2</th>\n",
       "      <td>Term</td>\n",
       "      <td>35</td>\n",
       "      <td>Female</td>\n",
       "      <td>33</td>\n",
       "      <td>Yearly</td>\n",
       "      <td>3500000</td>\n",
       "      <td>Salaried</td>\n",
       "      <td>No</td>\n",
       "      <td>8242.752196</td>\n",
       "    </tr>\n",
       "    <tr>\n",
       "      <th>3</th>\n",
       "      <td>Term</td>\n",
       "      <td>40</td>\n",
       "      <td>Female</td>\n",
       "      <td>21</td>\n",
       "      <td>Yearly</td>\n",
       "      <td>2500000</td>\n",
       "      <td>Student</td>\n",
       "      <td>Yes</td>\n",
       "      <td>2054.927549</td>\n",
       "    </tr>\n",
       "    <tr>\n",
       "      <th>4</th>\n",
       "      <td>Term</td>\n",
       "      <td>30</td>\n",
       "      <td>Female</td>\n",
       "      <td>31</td>\n",
       "      <td>Yearly</td>\n",
       "      <td>3000000</td>\n",
       "      <td>Self-Employed</td>\n",
       "      <td>No</td>\n",
       "      <td>6688.783291</td>\n",
       "    </tr>\n",
       "  </tbody>\n",
       "</table>\n",
       "</div>"
      ],
      "text/plain": [
       "  PolicyType  PolicyTerm  Gender  Age PremiumPayment  Sum Assured  \\\n",
       "0       Term          40    Male   22         Yearly      2000000   \n",
       "1  Endowment          10    Male   49         Yearly      5000000   \n",
       "2       Term          35  Female   33         Yearly      3500000   \n",
       "3       Term          40  Female   21         Yearly      2500000   \n",
       "4       Term          30  Female   31         Yearly      3000000   \n",
       "\n",
       "      Occupation Smoker  Total Premium  \n",
       "0        Student     No    2030.438032  \n",
       "1       Salaried    Yes  302907.286978  \n",
       "2       Salaried     No    8242.752196  \n",
       "3        Student    Yes    2054.927549  \n",
       "4  Self-Employed     No    6688.783291  "
      ]
     },
     "execution_count": 162,
     "metadata": {},
     "output_type": "execute_result"
    }
   ],
   "source": [
    "df.head()"
   ]
  },
  {
   "cell_type": "code",
   "execution_count": 163,
   "id": "917dcc80",
   "metadata": {},
   "outputs": [
    {
     "data": {
      "text/html": [
       "<div>\n",
       "<style scoped>\n",
       "    .dataframe tbody tr th:only-of-type {\n",
       "        vertical-align: middle;\n",
       "    }\n",
       "\n",
       "    .dataframe tbody tr th {\n",
       "        vertical-align: top;\n",
       "    }\n",
       "\n",
       "    .dataframe thead th {\n",
       "        text-align: right;\n",
       "    }\n",
       "</style>\n",
       "<table border=\"1\" class=\"dataframe\">\n",
       "  <thead>\n",
       "    <tr style=\"text-align: right;\">\n",
       "      <th></th>\n",
       "      <th>PolicyType</th>\n",
       "      <th>PolicyTerm</th>\n",
       "      <th>Gender</th>\n",
       "      <th>Age</th>\n",
       "      <th>PremiumPayment</th>\n",
       "      <th>Sum Assured</th>\n",
       "      <th>Occupation</th>\n",
       "      <th>Smoker</th>\n",
       "      <th>Total Premium</th>\n",
       "    </tr>\n",
       "  </thead>\n",
       "  <tbody>\n",
       "    <tr>\n",
       "      <th>2085</th>\n",
       "      <td>Term</td>\n",
       "      <td>30</td>\n",
       "      <td>Female</td>\n",
       "      <td>34</td>\n",
       "      <td>Yearly</td>\n",
       "      <td>5000000</td>\n",
       "      <td>Salaried</td>\n",
       "      <td>Yes</td>\n",
       "      <td>13901.991</td>\n",
       "    </tr>\n",
       "    <tr>\n",
       "      <th>2086</th>\n",
       "      <td>Term</td>\n",
       "      <td>30</td>\n",
       "      <td>Female</td>\n",
       "      <td>37</td>\n",
       "      <td>Yearly</td>\n",
       "      <td>5000000</td>\n",
       "      <td>Salaried</td>\n",
       "      <td>Yes</td>\n",
       "      <td>15403.823</td>\n",
       "    </tr>\n",
       "    <tr>\n",
       "      <th>2087</th>\n",
       "      <td>Term</td>\n",
       "      <td>30</td>\n",
       "      <td>Female</td>\n",
       "      <td>41</td>\n",
       "      <td>Yearly</td>\n",
       "      <td>5000000</td>\n",
       "      <td>Salaried</td>\n",
       "      <td>Yes</td>\n",
       "      <td>18345.093</td>\n",
       "    </tr>\n",
       "    <tr>\n",
       "      <th>2088</th>\n",
       "      <td>Term</td>\n",
       "      <td>30</td>\n",
       "      <td>Female</td>\n",
       "      <td>44</td>\n",
       "      <td>Yearly</td>\n",
       "      <td>5000000</td>\n",
       "      <td>Unemployed</td>\n",
       "      <td>No</td>\n",
       "      <td>12751.397</td>\n",
       "    </tr>\n",
       "    <tr>\n",
       "      <th>2089</th>\n",
       "      <td>Term</td>\n",
       "      <td>30</td>\n",
       "      <td>Female</td>\n",
       "      <td>47</td>\n",
       "      <td>Yearly</td>\n",
       "      <td>5000000</td>\n",
       "      <td>Unemployed</td>\n",
       "      <td>No</td>\n",
       "      <td>16178.973</td>\n",
       "    </tr>\n",
       "  </tbody>\n",
       "</table>\n",
       "</div>"
      ],
      "text/plain": [
       "     PolicyType  PolicyTerm  Gender  Age PremiumPayment  Sum Assured  \\\n",
       "2085       Term          30  Female   34         Yearly      5000000   \n",
       "2086       Term          30  Female   37         Yearly      5000000   \n",
       "2087       Term          30  Female   41         Yearly      5000000   \n",
       "2088       Term          30  Female   44         Yearly      5000000   \n",
       "2089       Term          30  Female   47         Yearly      5000000   \n",
       "\n",
       "      Occupation Smoker  Total Premium  \n",
       "2085    Salaried    Yes      13901.991  \n",
       "2086    Salaried    Yes      15403.823  \n",
       "2087    Salaried    Yes      18345.093  \n",
       "2088  Unemployed     No      12751.397  \n",
       "2089  Unemployed     No      16178.973  "
      ]
     },
     "execution_count": 163,
     "metadata": {},
     "output_type": "execute_result"
    }
   ],
   "source": [
    "df.tail()"
   ]
  },
  {
   "cell_type": "code",
   "execution_count": 164,
   "id": "1e4c7e7b",
   "metadata": {},
   "outputs": [
    {
     "data": {
      "text/plain": [
       "(2090, 9)"
      ]
     },
     "execution_count": 164,
     "metadata": {},
     "output_type": "execute_result"
    }
   ],
   "source": [
    "df.shape"
   ]
  },
  {
   "cell_type": "code",
   "execution_count": 165,
   "id": "b2121a7b",
   "metadata": {},
   "outputs": [
    {
     "name": "stdout",
     "output_type": "stream",
     "text": [
      "<class 'pandas.core.frame.DataFrame'>\n",
      "RangeIndex: 2090 entries, 0 to 2089\n",
      "Data columns (total 9 columns):\n",
      " #   Column          Non-Null Count  Dtype  \n",
      "---  ------          --------------  -----  \n",
      " 0   PolicyType      2090 non-null   object \n",
      " 1   PolicyTerm      2090 non-null   int64  \n",
      " 2   Gender          2090 non-null   object \n",
      " 3   Age             2090 non-null   int64  \n",
      " 4   PremiumPayment  2090 non-null   object \n",
      " 5   Sum Assured     2090 non-null   int64  \n",
      " 6   Occupation      2090 non-null   object \n",
      " 7   Smoker          2090 non-null   object \n",
      " 8   Total Premium   2090 non-null   float64\n",
      "dtypes: float64(1), int64(3), object(5)\n",
      "memory usage: 147.1+ KB\n"
     ]
    }
   ],
   "source": [
    "#categorical datas are (Object): \n",
    "#Type of Policy\n",
    "#Gender\n",
    "#Premium Payment\n",
    "#Occupation\n",
    "#Smoker\n",
    "dataset.info()"
   ]
  },
  {
   "cell_type": "code",
   "execution_count": 166,
   "id": "0da7f64f",
   "metadata": {},
   "outputs": [
    {
     "data": {
      "text/plain": [
       "array(['Term', 'Endowment'], dtype=object)"
      ]
     },
     "execution_count": 166,
     "metadata": {},
     "output_type": "execute_result"
    }
   ],
   "source": [
    "df['PolicyType'].unique()"
   ]
  },
  {
   "cell_type": "code",
   "execution_count": 167,
   "id": "b5212f5a",
   "metadata": {},
   "outputs": [
    {
     "data": {
      "text/plain": [
       "array([40, 10, 35, 30, 15, 20, 25,  5], dtype=int64)"
      ]
     },
     "execution_count": 167,
     "metadata": {},
     "output_type": "execute_result"
    }
   ],
   "source": [
    "df['PolicyTerm'].unique()"
   ]
  },
  {
   "cell_type": "code",
   "execution_count": 168,
   "id": "eb61f83a",
   "metadata": {},
   "outputs": [
    {
     "data": {
      "text/plain": [
       "array(['Male', 'Female'], dtype=object)"
      ]
     },
     "execution_count": 168,
     "metadata": {},
     "output_type": "execute_result"
    }
   ],
   "source": [
    "df['Gender'].unique()"
   ]
  },
  {
   "cell_type": "code",
   "execution_count": 169,
   "id": "14fef1db",
   "metadata": {},
   "outputs": [
    {
     "data": {
      "text/plain": [
       "array(['Yearly', 'Monthly'], dtype=object)"
      ]
     },
     "execution_count": 169,
     "metadata": {},
     "output_type": "execute_result"
    }
   ],
   "source": [
    "df['PremiumPayment'].unique()"
   ]
  },
  {
   "cell_type": "code",
   "execution_count": 170,
   "id": "87239912",
   "metadata": {},
   "outputs": [
    {
     "data": {
      "text/plain": [
       "array(['Student', 'Salaried', 'Self-Employed', 'Retired', 'Agriculturist',\n",
       "       'Unemployed'], dtype=object)"
      ]
     },
     "execution_count": 170,
     "metadata": {},
     "output_type": "execute_result"
    }
   ],
   "source": [
    "df['Occupation'].unique()"
   ]
  },
  {
   "cell_type": "code",
   "execution_count": 171,
   "id": "9cbaf951",
   "metadata": {},
   "outputs": [
    {
     "data": {
      "text/plain": [
       "Salaried         1262\n",
       "Student           285\n",
       "Self-Employed     233\n",
       "Unemployed        165\n",
       "Retired           106\n",
       "Agriculturist      39\n",
       "Name: Occupation, dtype: int64"
      ]
     },
     "execution_count": 171,
     "metadata": {},
     "output_type": "execute_result"
    }
   ],
   "source": [
    "df.Occupation.value_counts()"
   ]
  },
  {
   "cell_type": "code",
   "execution_count": 172,
   "id": "0f70518e",
   "metadata": {},
   "outputs": [
    {
     "data": {
      "text/html": [
       "<div>\n",
       "<style scoped>\n",
       "    .dataframe tbody tr th:only-of-type {\n",
       "        vertical-align: middle;\n",
       "    }\n",
       "\n",
       "    .dataframe tbody tr th {\n",
       "        vertical-align: top;\n",
       "    }\n",
       "\n",
       "    .dataframe thead th {\n",
       "        text-align: right;\n",
       "    }\n",
       "</style>\n",
       "<table border=\"1\" class=\"dataframe\">\n",
       "  <thead>\n",
       "    <tr style=\"text-align: right;\">\n",
       "      <th></th>\n",
       "      <th>PolicyTerm</th>\n",
       "      <th>Age</th>\n",
       "      <th>Sum Assured</th>\n",
       "      <th>Total Premium</th>\n",
       "    </tr>\n",
       "  </thead>\n",
       "  <tbody>\n",
       "    <tr>\n",
       "      <th>count</th>\n",
       "      <td>2090.000000</td>\n",
       "      <td>2090.000000</td>\n",
       "      <td>2.090000e+03</td>\n",
       "      <td>2.090000e+03</td>\n",
       "    </tr>\n",
       "    <tr>\n",
       "      <th>mean</th>\n",
       "      <td>22.947368</td>\n",
       "      <td>38.666507</td>\n",
       "      <td>5.329179e+06</td>\n",
       "      <td>5.500443e+04</td>\n",
       "    </tr>\n",
       "    <tr>\n",
       "      <th>std</th>\n",
       "      <td>10.252770</td>\n",
       "      <td>12.257383</td>\n",
       "      <td>2.898475e+06</td>\n",
       "      <td>1.781536e+05</td>\n",
       "    </tr>\n",
       "    <tr>\n",
       "      <th>min</th>\n",
       "      <td>5.000000</td>\n",
       "      <td>20.000000</td>\n",
       "      <td>2.500000e+05</td>\n",
       "      <td>1.314516e+02</td>\n",
       "    </tr>\n",
       "    <tr>\n",
       "      <th>25%</th>\n",
       "      <td>15.000000</td>\n",
       "      <td>28.000000</td>\n",
       "      <td>3.000000e+06</td>\n",
       "      <td>2.820093e+03</td>\n",
       "    </tr>\n",
       "    <tr>\n",
       "      <th>50%</th>\n",
       "      <td>20.000000</td>\n",
       "      <td>38.000000</td>\n",
       "      <td>4.500000e+06</td>\n",
       "      <td>1.283609e+04</td>\n",
       "    </tr>\n",
       "    <tr>\n",
       "      <th>75%</th>\n",
       "      <td>30.000000</td>\n",
       "      <td>50.000000</td>\n",
       "      <td>8.000000e+06</td>\n",
       "      <td>4.025524e+04</td>\n",
       "    </tr>\n",
       "    <tr>\n",
       "      <th>max</th>\n",
       "      <td>40.000000</td>\n",
       "      <td>60.000000</td>\n",
       "      <td>1.000000e+07</td>\n",
       "      <td>4.472302e+06</td>\n",
       "    </tr>\n",
       "  </tbody>\n",
       "</table>\n",
       "</div>"
      ],
      "text/plain": [
       "        PolicyTerm          Age   Sum Assured  Total Premium\n",
       "count  2090.000000  2090.000000  2.090000e+03   2.090000e+03\n",
       "mean     22.947368    38.666507  5.329179e+06   5.500443e+04\n",
       "std      10.252770    12.257383  2.898475e+06   1.781536e+05\n",
       "min       5.000000    20.000000  2.500000e+05   1.314516e+02\n",
       "25%      15.000000    28.000000  3.000000e+06   2.820093e+03\n",
       "50%      20.000000    38.000000  4.500000e+06   1.283609e+04\n",
       "75%      30.000000    50.000000  8.000000e+06   4.025524e+04\n",
       "max      40.000000    60.000000  1.000000e+07   4.472302e+06"
      ]
     },
     "execution_count": 172,
     "metadata": {},
     "output_type": "execute_result"
    }
   ],
   "source": [
    "df.describe()"
   ]
  },
  {
   "cell_type": "code",
   "execution_count": 173,
   "id": "3662f58d",
   "metadata": {},
   "outputs": [],
   "source": [
    "df.to_csv('Premium Prediction.csv')"
   ]
  },
  {
   "cell_type": "code",
   "execution_count": 174,
   "id": "6ac7aa8d",
   "metadata": {},
   "outputs": [
    {
     "data": {
      "text/html": [
       "<div>\n",
       "<style scoped>\n",
       "    .dataframe tbody tr th:only-of-type {\n",
       "        vertical-align: middle;\n",
       "    }\n",
       "\n",
       "    .dataframe tbody tr th {\n",
       "        vertical-align: top;\n",
       "    }\n",
       "\n",
       "    .dataframe thead th {\n",
       "        text-align: right;\n",
       "    }\n",
       "</style>\n",
       "<table border=\"1\" class=\"dataframe\">\n",
       "  <thead>\n",
       "    <tr style=\"text-align: right;\">\n",
       "      <th></th>\n",
       "      <th>PolicyType</th>\n",
       "      <th>PolicyTerm</th>\n",
       "      <th>Gender</th>\n",
       "      <th>Age</th>\n",
       "      <th>PremiumPayment</th>\n",
       "      <th>Sum Assured</th>\n",
       "      <th>Occupation</th>\n",
       "      <th>Smoker</th>\n",
       "      <th>Total Premium</th>\n",
       "    </tr>\n",
       "  </thead>\n",
       "  <tbody>\n",
       "    <tr>\n",
       "      <th>0</th>\n",
       "      <td>Term</td>\n",
       "      <td>40</td>\n",
       "      <td>Male</td>\n",
       "      <td>22</td>\n",
       "      <td>Yearly</td>\n",
       "      <td>2000000</td>\n",
       "      <td>Student</td>\n",
       "      <td>No</td>\n",
       "      <td>2030.438032</td>\n",
       "    </tr>\n",
       "    <tr>\n",
       "      <th>1</th>\n",
       "      <td>Endowment</td>\n",
       "      <td>10</td>\n",
       "      <td>Male</td>\n",
       "      <td>49</td>\n",
       "      <td>Yearly</td>\n",
       "      <td>5000000</td>\n",
       "      <td>Salaried</td>\n",
       "      <td>Yes</td>\n",
       "      <td>302907.286978</td>\n",
       "    </tr>\n",
       "    <tr>\n",
       "      <th>2</th>\n",
       "      <td>Term</td>\n",
       "      <td>35</td>\n",
       "      <td>Female</td>\n",
       "      <td>33</td>\n",
       "      <td>Yearly</td>\n",
       "      <td>3500000</td>\n",
       "      <td>Salaried</td>\n",
       "      <td>No</td>\n",
       "      <td>8242.752196</td>\n",
       "    </tr>\n",
       "    <tr>\n",
       "      <th>3</th>\n",
       "      <td>Term</td>\n",
       "      <td>40</td>\n",
       "      <td>Female</td>\n",
       "      <td>21</td>\n",
       "      <td>Yearly</td>\n",
       "      <td>2500000</td>\n",
       "      <td>Student</td>\n",
       "      <td>Yes</td>\n",
       "      <td>2054.927549</td>\n",
       "    </tr>\n",
       "    <tr>\n",
       "      <th>4</th>\n",
       "      <td>Term</td>\n",
       "      <td>30</td>\n",
       "      <td>Female</td>\n",
       "      <td>31</td>\n",
       "      <td>Yearly</td>\n",
       "      <td>3000000</td>\n",
       "      <td>Self-Employed</td>\n",
       "      <td>No</td>\n",
       "      <td>6688.783291</td>\n",
       "    </tr>\n",
       "  </tbody>\n",
       "</table>\n",
       "</div>"
      ],
      "text/plain": [
       "  PolicyType  PolicyTerm  Gender  Age PremiumPayment  Sum Assured  \\\n",
       "0       Term          40    Male   22         Yearly      2000000   \n",
       "1  Endowment          10    Male   49         Yearly      5000000   \n",
       "2       Term          35  Female   33         Yearly      3500000   \n",
       "3       Term          40  Female   21         Yearly      2500000   \n",
       "4       Term          30  Female   31         Yearly      3000000   \n",
       "\n",
       "      Occupation Smoker  Total Premium  \n",
       "0        Student     No    2030.438032  \n",
       "1       Salaried    Yes  302907.286978  \n",
       "2       Salaried     No    8242.752196  \n",
       "3        Student    Yes    2054.927549  \n",
       "4  Self-Employed     No    6688.783291  "
      ]
     },
     "execution_count": 174,
     "metadata": {},
     "output_type": "execute_result"
    }
   ],
   "source": [
    "df.head()"
   ]
  },
  {
   "cell_type": "code",
   "execution_count": 175,
   "id": "17d8cb95",
   "metadata": {},
   "outputs": [],
   "source": [
    "#'PolicyType','Gender','PremiumPayment','Occupation','Smoker'"
   ]
  },
  {
   "cell_type": "code",
   "execution_count": 176,
   "id": "12916add",
   "metadata": {},
   "outputs": [
    {
     "data": {
      "text/plain": [
       "array([1, 0])"
      ]
     },
     "execution_count": 176,
     "metadata": {},
     "output_type": "execute_result"
    }
   ],
   "source": [
    "le_policytype = LabelEncoder()\n",
    "df['PolicyType'] = le_policytype.fit_transform(df['PolicyType'])\n",
    "df['PolicyType'].unique()"
   ]
  },
  {
   "cell_type": "code",
   "execution_count": 177,
   "id": "194344c0",
   "metadata": {},
   "outputs": [
    {
     "data": {
      "text/plain": [
       "array([1, 0])"
      ]
     },
     "execution_count": 177,
     "metadata": {},
     "output_type": "execute_result"
    }
   ],
   "source": [
    "le_gender = LabelEncoder()\n",
    "df['Gender'] = le_gender.fit_transform(df['Gender'])\n",
    "df['Gender'].unique()"
   ]
  },
  {
   "cell_type": "code",
   "execution_count": 178,
   "id": "28528169",
   "metadata": {},
   "outputs": [
    {
     "data": {
      "text/plain": [
       "array([1, 0])"
      ]
     },
     "execution_count": 178,
     "metadata": {},
     "output_type": "execute_result"
    }
   ],
   "source": [
    "le_premiumpayment = LabelEncoder()\n",
    "df['PremiumPayment'] = le_premiumpayment.fit_transform(df['PremiumPayment'])\n",
    "df['PremiumPayment'].unique()"
   ]
  },
  {
   "cell_type": "code",
   "execution_count": 179,
   "id": "69a219ec",
   "metadata": {},
   "outputs": [
    {
     "data": {
      "text/plain": [
       "array([4, 2, 3, 1, 0, 5])"
      ]
     },
     "execution_count": 179,
     "metadata": {},
     "output_type": "execute_result"
    }
   ],
   "source": [
    "le_occupation = LabelEncoder()\n",
    "df['Occupation'] = le_occupation.fit_transform(df['Occupation'])\n",
    "df['Occupation'].unique()"
   ]
  },
  {
   "cell_type": "code",
   "execution_count": 180,
   "id": "83b7faee",
   "metadata": {},
   "outputs": [
    {
     "data": {
      "text/plain": [
       "array([0, 1])"
      ]
     },
     "execution_count": 180,
     "metadata": {},
     "output_type": "execute_result"
    }
   ],
   "source": [
    "le_smoker = LabelEncoder()\n",
    "df['Smoker'] = le_smoker.fit_transform(df['Smoker'])\n",
    "df['Smoker'].unique()"
   ]
  },
  {
   "cell_type": "code",
   "execution_count": 181,
   "id": "6dcab487",
   "metadata": {},
   "outputs": [
    {
     "data": {
      "text/html": [
       "<div>\n",
       "<style scoped>\n",
       "    .dataframe tbody tr th:only-of-type {\n",
       "        vertical-align: middle;\n",
       "    }\n",
       "\n",
       "    .dataframe tbody tr th {\n",
       "        vertical-align: top;\n",
       "    }\n",
       "\n",
       "    .dataframe thead th {\n",
       "        text-align: right;\n",
       "    }\n",
       "</style>\n",
       "<table border=\"1\" class=\"dataframe\">\n",
       "  <thead>\n",
       "    <tr style=\"text-align: right;\">\n",
       "      <th></th>\n",
       "      <th>PolicyType</th>\n",
       "      <th>PolicyTerm</th>\n",
       "      <th>Gender</th>\n",
       "      <th>Age</th>\n",
       "      <th>PremiumPayment</th>\n",
       "      <th>Sum Assured</th>\n",
       "      <th>Occupation</th>\n",
       "      <th>Smoker</th>\n",
       "      <th>Total Premium</th>\n",
       "    </tr>\n",
       "  </thead>\n",
       "  <tbody>\n",
       "    <tr>\n",
       "      <th>0</th>\n",
       "      <td>1</td>\n",
       "      <td>40</td>\n",
       "      <td>1</td>\n",
       "      <td>22</td>\n",
       "      <td>1</td>\n",
       "      <td>2000000</td>\n",
       "      <td>4</td>\n",
       "      <td>0</td>\n",
       "      <td>2030.438032</td>\n",
       "    </tr>\n",
       "    <tr>\n",
       "      <th>1</th>\n",
       "      <td>0</td>\n",
       "      <td>10</td>\n",
       "      <td>1</td>\n",
       "      <td>49</td>\n",
       "      <td>1</td>\n",
       "      <td>5000000</td>\n",
       "      <td>2</td>\n",
       "      <td>1</td>\n",
       "      <td>302907.286978</td>\n",
       "    </tr>\n",
       "    <tr>\n",
       "      <th>2</th>\n",
       "      <td>1</td>\n",
       "      <td>35</td>\n",
       "      <td>0</td>\n",
       "      <td>33</td>\n",
       "      <td>1</td>\n",
       "      <td>3500000</td>\n",
       "      <td>2</td>\n",
       "      <td>0</td>\n",
       "      <td>8242.752196</td>\n",
       "    </tr>\n",
       "    <tr>\n",
       "      <th>3</th>\n",
       "      <td>1</td>\n",
       "      <td>40</td>\n",
       "      <td>0</td>\n",
       "      <td>21</td>\n",
       "      <td>1</td>\n",
       "      <td>2500000</td>\n",
       "      <td>4</td>\n",
       "      <td>1</td>\n",
       "      <td>2054.927549</td>\n",
       "    </tr>\n",
       "    <tr>\n",
       "      <th>4</th>\n",
       "      <td>1</td>\n",
       "      <td>30</td>\n",
       "      <td>0</td>\n",
       "      <td>31</td>\n",
       "      <td>1</td>\n",
       "      <td>3000000</td>\n",
       "      <td>3</td>\n",
       "      <td>0</td>\n",
       "      <td>6688.783291</td>\n",
       "    </tr>\n",
       "  </tbody>\n",
       "</table>\n",
       "</div>"
      ],
      "text/plain": [
       "   PolicyType  PolicyTerm  Gender  Age  PremiumPayment  Sum Assured  \\\n",
       "0           1          40       1   22               1      2000000   \n",
       "1           0          10       1   49               1      5000000   \n",
       "2           1          35       0   33               1      3500000   \n",
       "3           1          40       0   21               1      2500000   \n",
       "4           1          30       0   31               1      3000000   \n",
       "\n",
       "   Occupation  Smoker  Total Premium  \n",
       "0           4       0    2030.438032  \n",
       "1           2       1  302907.286978  \n",
       "2           2       0    8242.752196  \n",
       "3           4       1    2054.927549  \n",
       "4           3       0    6688.783291  "
      ]
     },
     "execution_count": 181,
     "metadata": {},
     "output_type": "execute_result"
    }
   ],
   "source": [
    "df.head()"
   ]
  },
  {
   "cell_type": "markdown",
   "id": "2a95f40f",
   "metadata": {},
   "source": [
    "# MODEL"
   ]
  },
  {
   "cell_type": "code",
   "execution_count": 182,
   "id": "a965ee1c",
   "metadata": {},
   "outputs": [],
   "source": [
    "X= df.drop(columns='Total Premium')\n",
    "Y= df['Total Premium']"
   ]
  },
  {
   "cell_type": "code",
   "execution_count": 183,
   "id": "a2b0bd42",
   "metadata": {},
   "outputs": [
    {
     "data": {
      "text/html": [
       "<div>\n",
       "<style scoped>\n",
       "    .dataframe tbody tr th:only-of-type {\n",
       "        vertical-align: middle;\n",
       "    }\n",
       "\n",
       "    .dataframe tbody tr th {\n",
       "        vertical-align: top;\n",
       "    }\n",
       "\n",
       "    .dataframe thead th {\n",
       "        text-align: right;\n",
       "    }\n",
       "</style>\n",
       "<table border=\"1\" class=\"dataframe\">\n",
       "  <thead>\n",
       "    <tr style=\"text-align: right;\">\n",
       "      <th></th>\n",
       "      <th>PolicyType</th>\n",
       "      <th>PolicyTerm</th>\n",
       "      <th>Gender</th>\n",
       "      <th>Age</th>\n",
       "      <th>PremiumPayment</th>\n",
       "      <th>Sum Assured</th>\n",
       "      <th>Occupation</th>\n",
       "      <th>Smoker</th>\n",
       "    </tr>\n",
       "  </thead>\n",
       "  <tbody>\n",
       "    <tr>\n",
       "      <th>0</th>\n",
       "      <td>1</td>\n",
       "      <td>40</td>\n",
       "      <td>1</td>\n",
       "      <td>22</td>\n",
       "      <td>1</td>\n",
       "      <td>2000000</td>\n",
       "      <td>4</td>\n",
       "      <td>0</td>\n",
       "    </tr>\n",
       "    <tr>\n",
       "      <th>1</th>\n",
       "      <td>0</td>\n",
       "      <td>10</td>\n",
       "      <td>1</td>\n",
       "      <td>49</td>\n",
       "      <td>1</td>\n",
       "      <td>5000000</td>\n",
       "      <td>2</td>\n",
       "      <td>1</td>\n",
       "    </tr>\n",
       "    <tr>\n",
       "      <th>2</th>\n",
       "      <td>1</td>\n",
       "      <td>35</td>\n",
       "      <td>0</td>\n",
       "      <td>33</td>\n",
       "      <td>1</td>\n",
       "      <td>3500000</td>\n",
       "      <td>2</td>\n",
       "      <td>0</td>\n",
       "    </tr>\n",
       "    <tr>\n",
       "      <th>3</th>\n",
       "      <td>1</td>\n",
       "      <td>40</td>\n",
       "      <td>0</td>\n",
       "      <td>21</td>\n",
       "      <td>1</td>\n",
       "      <td>2500000</td>\n",
       "      <td>4</td>\n",
       "      <td>1</td>\n",
       "    </tr>\n",
       "    <tr>\n",
       "      <th>4</th>\n",
       "      <td>1</td>\n",
       "      <td>30</td>\n",
       "      <td>0</td>\n",
       "      <td>31</td>\n",
       "      <td>1</td>\n",
       "      <td>3000000</td>\n",
       "      <td>3</td>\n",
       "      <td>0</td>\n",
       "    </tr>\n",
       "    <tr>\n",
       "      <th>...</th>\n",
       "      <td>...</td>\n",
       "      <td>...</td>\n",
       "      <td>...</td>\n",
       "      <td>...</td>\n",
       "      <td>...</td>\n",
       "      <td>...</td>\n",
       "      <td>...</td>\n",
       "      <td>...</td>\n",
       "    </tr>\n",
       "    <tr>\n",
       "      <th>2085</th>\n",
       "      <td>1</td>\n",
       "      <td>30</td>\n",
       "      <td>0</td>\n",
       "      <td>34</td>\n",
       "      <td>1</td>\n",
       "      <td>5000000</td>\n",
       "      <td>2</td>\n",
       "      <td>1</td>\n",
       "    </tr>\n",
       "    <tr>\n",
       "      <th>2086</th>\n",
       "      <td>1</td>\n",
       "      <td>30</td>\n",
       "      <td>0</td>\n",
       "      <td>37</td>\n",
       "      <td>1</td>\n",
       "      <td>5000000</td>\n",
       "      <td>2</td>\n",
       "      <td>1</td>\n",
       "    </tr>\n",
       "    <tr>\n",
       "      <th>2087</th>\n",
       "      <td>1</td>\n",
       "      <td>30</td>\n",
       "      <td>0</td>\n",
       "      <td>41</td>\n",
       "      <td>1</td>\n",
       "      <td>5000000</td>\n",
       "      <td>2</td>\n",
       "      <td>1</td>\n",
       "    </tr>\n",
       "    <tr>\n",
       "      <th>2088</th>\n",
       "      <td>1</td>\n",
       "      <td>30</td>\n",
       "      <td>0</td>\n",
       "      <td>44</td>\n",
       "      <td>1</td>\n",
       "      <td>5000000</td>\n",
       "      <td>5</td>\n",
       "      <td>0</td>\n",
       "    </tr>\n",
       "    <tr>\n",
       "      <th>2089</th>\n",
       "      <td>1</td>\n",
       "      <td>30</td>\n",
       "      <td>0</td>\n",
       "      <td>47</td>\n",
       "      <td>1</td>\n",
       "      <td>5000000</td>\n",
       "      <td>5</td>\n",
       "      <td>0</td>\n",
       "    </tr>\n",
       "  </tbody>\n",
       "</table>\n",
       "<p>2090 rows × 8 columns</p>\n",
       "</div>"
      ],
      "text/plain": [
       "      PolicyType  PolicyTerm  Gender  Age  PremiumPayment  Sum Assured  \\\n",
       "0              1          40       1   22               1      2000000   \n",
       "1              0          10       1   49               1      5000000   \n",
       "2              1          35       0   33               1      3500000   \n",
       "3              1          40       0   21               1      2500000   \n",
       "4              1          30       0   31               1      3000000   \n",
       "...          ...         ...     ...  ...             ...          ...   \n",
       "2085           1          30       0   34               1      5000000   \n",
       "2086           1          30       0   37               1      5000000   \n",
       "2087           1          30       0   41               1      5000000   \n",
       "2088           1          30       0   44               1      5000000   \n",
       "2089           1          30       0   47               1      5000000   \n",
       "\n",
       "      Occupation  Smoker  \n",
       "0              4       0  \n",
       "1              2       1  \n",
       "2              2       0  \n",
       "3              4       1  \n",
       "4              3       0  \n",
       "...          ...     ...  \n",
       "2085           2       1  \n",
       "2086           2       1  \n",
       "2087           2       1  \n",
       "2088           5       0  \n",
       "2089           5       0  \n",
       "\n",
       "[2090 rows x 8 columns]"
      ]
     },
     "execution_count": 183,
     "metadata": {},
     "output_type": "execute_result"
    }
   ],
   "source": [
    "X"
   ]
  },
  {
   "cell_type": "code",
   "execution_count": 184,
   "id": "0a1aeacd",
   "metadata": {},
   "outputs": [
    {
     "data": {
      "text/plain": [
       "0         2030.438032\n",
       "1       302907.286978\n",
       "2         8242.752196\n",
       "3         2054.927549\n",
       "4         6688.783291\n",
       "            ...      \n",
       "2085     13901.991000\n",
       "2086     15403.823000\n",
       "2087     18345.093000\n",
       "2088     12751.397000\n",
       "2089     16178.973000\n",
       "Name: Total Premium, Length: 2090, dtype: float64"
      ]
     },
     "execution_count": 184,
     "metadata": {},
     "output_type": "execute_result"
    }
   ],
   "source": [
    "Y"
   ]
  },
  {
   "cell_type": "code",
   "execution_count": 185,
   "id": "c9206975",
   "metadata": {},
   "outputs": [],
   "source": [
    "from sklearn.model_selection import train_test_split\n",
    "X_train,X_test,Y_train,Y_test= train_test_split(X,Y, test_size=0.2, random_state=2)"
   ]
  },
  {
   "cell_type": "code",
   "execution_count": 186,
   "id": "e60ad738",
   "metadata": {},
   "outputs": [
    {
     "data": {
      "text/plain": [
       "XGBRegressor(base_score=0.5, booster='gbtree', colsample_bylevel=1,\n",
       "             colsample_bynode=1, colsample_bytree=1, gamma=0, gpu_id=-1,\n",
       "             importance_type='gain', interaction_constraints='',\n",
       "             learning_rate=0.300000012, max_delta_step=0, max_depth=6,\n",
       "             min_child_weight=1, missing=nan, monotone_constraints='()',\n",
       "             n_estimators=100, n_jobs=4, num_parallel_tree=1, random_state=0,\n",
       "             reg_alpha=0, reg_lambda=1, scale_pos_weight=1, subsample=1,\n",
       "             tree_method='exact', validate_parameters=1, verbosity=None)"
      ]
     },
     "execution_count": 186,
     "metadata": {},
     "output_type": "execute_result"
    }
   ],
   "source": [
    "Regressor=XGBRegressor()\n",
    "Regressor.fit(X,Y.values)"
   ]
  },
  {
   "cell_type": "code",
   "execution_count": 187,
   "id": "fcdbe1c8",
   "metadata": {},
   "outputs": [],
   "source": [
    "Y_pred = Regressor.predict(X)"
   ]
  },
  {
   "cell_type": "code",
   "execution_count": 188,
   "id": "bcc64398",
   "metadata": {},
   "outputs": [
    {
     "data": {
      "text/plain": [
       "array([  1378.3346, 298053.34  ,   8414.334 , ...,  17162.06  ,\n",
       "        13182.518 ,  16955.06  ], dtype=float32)"
      ]
     },
     "execution_count": 188,
     "metadata": {},
     "output_type": "execute_result"
    }
   ],
   "source": [
    "Y_pred"
   ]
  },
  {
   "cell_type": "code",
   "execution_count": 189,
   "id": "35fc9add",
   "metadata": {},
   "outputs": [
    {
     "data": {
      "text/plain": [
       "array([['Term', '35', 'Female', '33', 'Yearly', '3500000', 'Salaried',\n",
       "        'No']], dtype='<U11')"
      ]
     },
     "execution_count": 189,
     "metadata": {},
     "output_type": "execute_result"
    }
   ],
   "source": [
    "X = np.array([['Term',35,'Female',33,'Yearly',3500000,'Salaried','No']])\n",
    "X"
   ]
  },
  {
   "cell_type": "code",
   "execution_count": 190,
   "id": "b83d70d4",
   "metadata": {},
   "outputs": [
    {
     "data": {
      "text/plain": [
       "array([[1.0e+00, 3.5e+01, 0.0e+00, 3.3e+01, 1.0e+00, 3.5e+06, 2.0e+00,\n",
       "        0.0e+00]])"
      ]
     },
     "execution_count": 190,
     "metadata": {},
     "output_type": "execute_result"
    }
   ],
   "source": [
    "X[:,0] = le_policytype.transform(X[:,0])\n",
    "X[:,2] = le_gender.transform(X[:,2])\n",
    "X[:,4] = le_premiumpayment.transform(X[:,4])\n",
    "X[:,6] = le_occupation.transform(X[:,6])\n",
    "X[:,7] = le_smoker.transform(X[:,7])\n",
    "X = X.astype(float)\n",
    "X"
   ]
  },
  {
   "cell_type": "code",
   "execution_count": 191,
   "id": "ee2ca340",
   "metadata": {},
   "outputs": [
    {
     "data": {
      "text/plain": [
       "array([8414.334], dtype=float32)"
      ]
     },
     "execution_count": 191,
     "metadata": {},
     "output_type": "execute_result"
    }
   ],
   "source": [
    "Y_pred = Regressor.predict(X)\n",
    "Y_pred"
   ]
  },
  {
   "cell_type": "code",
   "execution_count": 192,
   "id": "0174a3a9",
   "metadata": {},
   "outputs": [],
   "source": [
    "import pickle"
   ]
  },
  {
   "cell_type": "code",
   "execution_count": 198,
   "id": "96def0c7",
   "metadata": {},
   "outputs": [],
   "source": [
    "data = {\"model\":Regressor, \"le_policytype\":le_policytype, \"le_gender\":le_gender, \"le_premiumpayment\":le_premiumpayment, \"le_occupation\":le_occupation, \"le_smoker\":le_smoker}\n",
    "with open('saved_steps.pkl','wb') as file:\n",
    "    pickle.dump(data,file)"
   ]
  },
  {
   "cell_type": "code",
   "execution_count": 199,
   "id": "8433221f",
   "metadata": {},
   "outputs": [],
   "source": [
    "with open('saved_steps.pkl','rb') as file:\n",
    "    data = pickle.load(file)\n",
    "    \n",
    "Regressor_Loaded = data[\"model\"]\n",
    "le_policytype = data[\"le_policytype\"]\n",
    "le_gender = data[\"le_gender\"]\n",
    "le_premiumpayment = data[\"le_premiumpayment\"]\n",
    "le_occupation = data[\"le_occupation\"]\n",
    "le_smoker = data[\"le_smoker\"]"
   ]
  },
  {
   "cell_type": "code",
   "execution_count": 200,
   "id": "371cc90a",
   "metadata": {},
   "outputs": [
    {
     "data": {
      "text/plain": [
       "array([8414.334], dtype=float32)"
      ]
     },
     "execution_count": 200,
     "metadata": {},
     "output_type": "execute_result"
    }
   ],
   "source": [
    "Y_pred = Regressor_Loaded.predict(X)\n",
    "Y_pred"
   ]
  },
  {
   "cell_type": "code",
   "execution_count": null,
   "id": "d2815df5",
   "metadata": {},
   "outputs": [],
   "source": []
  }
 ],
 "metadata": {
  "kernelspec": {
   "display_name": "Python 3",
   "language": "python",
   "name": "python3"
  },
  "language_info": {
   "codemirror_mode": {
    "name": "ipython",
    "version": 3
   },
   "file_extension": ".py",
   "mimetype": "text/x-python",
   "name": "python",
   "nbconvert_exporter": "python",
   "pygments_lexer": "ipython3",
   "version": "3.8.8"
  }
 },
 "nbformat": 4,
 "nbformat_minor": 5
}
